{
 "cells": [
  {
   "cell_type": "markdown",
   "id": "f7607183",
   "metadata": {},
   "source": [
    "# Basic implementation of MCTS to Classifier Chains"
   ]
  },
  {
   "cell_type": "markdown",
   "id": "96b1a8ed",
   "metadata": {},
   "source": [
    "### Generate some data"
   ]
  },
  {
   "cell_type": "code",
   "execution_count": 39,
   "id": "c1d3efa3",
   "metadata": {
    "scrolled": true
   },
   "outputs": [],
   "source": [
    "import numpy as np\n",
    "from sklearn.datasets import make_multilabel_classification\n",
    "from sklearn.model_selection import train_test_split\n",
    "\n",
    "n_samples = 10000\n",
    "n_features = 20\n",
    "n_classes = 10\n",
    "n_labels = 2\n",
    "random_state = 0\n",
    "\n",
    "X, Y = make_multilabel_classification(\n",
    "    n_samples = n_samples,\n",
    "    n_features = n_features,\n",
    "    n_classes = n_classes,\n",
    "    n_labels = n_labels,\n",
    "    random_state = random_state)\n",
    "\n",
    "test_size = 0.2\n",
    "X_train, X_test, Y_train, Y_test = train_test_split(X, Y, test_size=test_size, random_state=random_state)\n",
    "\n",
    "from sklearn.multioutput import ClassifierChain\n",
    "from sklearn.linear_model import LogisticRegression\n",
    "\n",
    "solver = \"liblinear\"\n",
    "base = LogisticRegression(solver=solver)\n",
    "chain = ClassifierChain(base)\n",
    "\n",
    "chain = chain.fit(X_train,Y_train)"
   ]
  },
  {
   "cell_type": "markdown",
   "id": "e81dffbb",
   "metadata": {},
   "source": [
    "## Loss comparison"
   ]
  },
  {
   "cell_type": "code",
   "execution_count": 48,
   "id": "d242b2ae",
   "metadata": {},
   "outputs": [],
   "source": [
    "from mcts_inference.mcts import MCTS\n",
    "from mcts_inference.mcts_config import MCTSConfig\n",
    "from mcts_inference.constraints import Constraint\n",
    "\n",
    "constraint = Constraint(time=True, d_time=1.)\n",
    "config1 = MCTSConfig(n_classes, selection_policy=UCB(), constraint=constraint, verbose=True, step_once=True, )\n",
    "config2 = MCTSConfig(n_classes, constraint=constraint, verbose=True, step_once=True, )"
   ]
  },
  {
   "cell_type": "code",
   "execution_count": 49,
   "id": "f7f4f2d9",
   "metadata": {
    "scrolled": true
   },
   "outputs": [
    {
     "name": "stderr",
     "output_type": "stream",
     "text": [
      "100%|█████████████████████████████████████████| 100/100 [02:11<00:00,  1.31s/it]\n",
      "100%|█████████████████████████████████████████| 100/100 [02:11<00:00,  1.31s/it]\n"
     ]
    },
    {
     "data": {
      "text/plain": [
       "(0.149, 0.147, 0.249)"
      ]
     },
     "execution_count": 49,
     "metadata": {},
     "output_type": "execute_result"
    }
   ],
   "source": [
    "M: int = 100\n",
    "out1 = MCTS(chain, X_test[:M], config1)\n",
    "out2 = MCTS(chain, X_test[:M], config2)\n",
    "\n",
    "from sklearn.metrics import hamming_loss, zero_one_loss\n",
    "\n",
    "hamming_loss(out1, Y_test[:M]), hamming_loss(chain.predict(X_test[:M]), Y_test[:M]), hamming_loss(out2, Y_test[:M])"
   ]
  },
  {
   "cell_type": "markdown",
   "id": "fac9f2c5",
   "metadata": {},
   "source": [
    "# Implementation seems fine, now let's compare accuracies"
   ]
  },
  {
   "cell_type": "code",
   "execution_count": null,
   "id": "aee0aaf2",
   "metadata": {},
   "outputs": [],
   "source": [
    "from sklearn.metrics import hamming_loss, zero_one_loss\n",
    "\n",
    "secs_lis = [0.1, 0.5, 1.] #  2.]\n",
    "M = min(100,len(Y_test))\n",
    "\n",
    "hl_mt = []\n",
    "hl_ct = []\n",
    "hl_mc = []\n",
    "\n",
    "zo_mt = []\n",
    "zo_ct = []\n",
    "zo_mc = []\n",
    "\n",
    "y_chain = chain.predict(X_test[:M])\n",
    "for secs in secs_lis:\n",
    "#     continue\n",
    "    y_mcts = []\n",
    "\n",
    "    for i in trange(M, desc=f\"MCTS Inference Constraint={secs}s\", unit=\"it\",colour=\"green\"):\n",
    "        y_mcts.append(MCTS(chain,X_test[i],secs=secs))\n",
    "\n",
    "    y_mcts = np.array(y_mcts)\n",
    "    \n",
    "    hl_mt.append(hamming_loss(y_mcts,Y_test[:M]))\n",
    "    hl_ct.append(hamming_loss(y_chain,Y_test[:M]))\n",
    "    hl_mc.append(hamming_loss(y_chain,y_mcts))\n",
    "\n",
    "    zo_mt.append(zero_one_loss(y_mcts,Y_test[:M]))\n",
    "    zo_ct.append(zero_one_loss(y_chain,Y_test[:M]))\n",
    "    zo_mc.append(zero_one_loss(y_chain,y_mcts))"
   ]
  },
  {
   "cell_type": "code",
   "execution_count": null,
   "id": "13feffd8",
   "metadata": {},
   "outputs": [],
   "source": [
    "import matplotlib.pyplot as plt\n",
    "\n",
    "plt.plot(secs_lis,hl_mt,label=\"MCTS vs True\")\n",
    "plt.plot(secs_lis,hl_ct,label=\"Chains vs True\")\n",
    "plt.plot(secs_lis,hl_mc,label=\"MCTS vs Chains\")\n",
    "\n",
    "plt.title(\"Hamming Loss Comparison for different times\")\n",
    "plt.xlabel(\"Seconds\")\n",
    "plt.ylim(0,1)\n",
    "plt.ylabel(\"Hamming Loss\")\n",
    "plt.legend()\n",
    "plt.show();\n",
    "\n",
    "plt.plot(secs_lis,zo_mt,label=\"MCTS vs True\")\n",
    "plt.plot(secs_lis,zo_ct,label=\"Chains vs True\")\n",
    "plt.plot(secs_lis,zo_mc,label=\"MCTS vs Chains\")\n",
    "\n",
    "plt.title(\"Zero One Loss Comparison for time different times\")\n",
    "plt.xlabel(\"Seconds\")\n",
    "plt.ylim(0,1)\n",
    "plt.ylabel(\"Zero One Loss\")\n",
    "plt.legend()\n",
    "plt.show();"
   ]
  },
  {
   "cell_type": "markdown",
   "id": "4ed725e7",
   "metadata": {},
   "source": [
    "## Iteration to time"
   ]
  },
  {
   "cell_type": "code",
   "execution_count": 27,
   "id": "ab76f413",
   "metadata": {},
   "outputs": [],
   "source": [
    "from mcts_inference.mcts import MCTS\n",
    "from mcts_inference.mcts_config import MCTSConfig\n",
    "from mcts_inference.constraints import Constraint\n",
    "from mcts_inference.policy import UCB\n",
    "\n",
    "import time"
   ]
  },
  {
   "cell_type": "code",
   "execution_count": 28,
   "id": "c8c31ffd",
   "metadata": {},
   "outputs": [
    {
     "ename": "KeyboardInterrupt",
     "evalue": "",
     "output_type": "error",
     "traceback": [
      "\u001b[0;31m---------------------------------------------------------------------------\u001b[0m",
      "\u001b[0;31mKeyboardInterrupt\u001b[0m                         Traceback (most recent call last)",
      "Cell \u001b[0;32mIn[28], line 7\u001b[0m\n\u001b[1;32m      5\u001b[0m \u001b[38;5;28;01mwhile\u001b[39;00m(\u001b[38;5;28;01mTrue\u001b[39;00m):\n\u001b[1;32m      6\u001b[0m     t0 \u001b[38;5;241m=\u001b[39m time\u001b[38;5;241m.\u001b[39mtime()\n\u001b[0;32m----> 7\u001b[0m     \u001b[43mMCTS\u001b[49m\u001b[43m(\u001b[49m\u001b[43mchain\u001b[49m\u001b[43m,\u001b[49m\u001b[43m \u001b[49m\u001b[43mX_test\u001b[49m\u001b[43m[\u001b[49m\u001b[43m:\u001b[49m\u001b[43mM\u001b[49m\u001b[43m]\u001b[49m\u001b[43m,\u001b[49m\u001b[43m \u001b[49m\u001b[43mconfig\u001b[49m\u001b[43m)\u001b[49m\n\u001b[1;32m      8\u001b[0m     \u001b[38;5;28mprint\u001b[39m(\u001b[38;5;124mf\u001b[39m\u001b[38;5;124m\"\u001b[39m\u001b[38;5;132;01m{\u001b[39;00mtime\u001b[38;5;241m.\u001b[39mtime()\u001b[38;5;241m-\u001b[39mt0\u001b[38;5;132;01m:\u001b[39;00m\u001b[38;5;124m.3f\u001b[39m\u001b[38;5;132;01m}\u001b[39;00m\u001b[38;5;124m\"\u001b[39m)\n",
      "File \u001b[0;32m/usr/local/lib/python3.11/site-packages/mcts_inference/mcts.py:254\u001b[0m, in \u001b[0;36mMCTS\u001b[0;34m(model, X, config)\u001b[0m\n\u001b[1;32m    252\u001b[0m         out \u001b[38;5;241m=\u001b[39m [func(model, x, config) \u001b[38;5;28;01mfor\u001b[39;00m x \u001b[38;5;129;01min\u001b[39;00m tqdm(X, total\u001b[38;5;241m=\u001b[39m\u001b[38;5;28mlen\u001b[39m(X))]\n\u001b[1;32m    253\u001b[0m     \u001b[38;5;28;01melse\u001b[39;00m:\n\u001b[0;32m--> 254\u001b[0m         out \u001b[38;5;241m=\u001b[39m \u001b[43m[\u001b[49m\u001b[43mfunc\u001b[49m\u001b[43m(\u001b[49m\u001b[43mmodel\u001b[49m\u001b[43m,\u001b[49m\u001b[43m \u001b[49m\u001b[43mx\u001b[49m\u001b[43m,\u001b[49m\u001b[43m \u001b[49m\u001b[43mconfig\u001b[49m\u001b[43m)\u001b[49m\u001b[43m \u001b[49m\u001b[38;5;28;43;01mfor\u001b[39;49;00m\u001b[43m \u001b[49m\u001b[43mx\u001b[49m\u001b[43m \u001b[49m\u001b[38;5;129;43;01min\u001b[39;49;00m\u001b[43m \u001b[49m\u001b[43mX\u001b[49m\u001b[43m]\u001b[49m\n\u001b[1;32m    256\u001b[0m \u001b[38;5;28;01mreturn\u001b[39;00m np\u001b[38;5;241m.\u001b[39matleast_2d(out)\n",
      "File \u001b[0;32m/usr/local/lib/python3.11/site-packages/mcts_inference/mcts.py:254\u001b[0m, in \u001b[0;36m<listcomp>\u001b[0;34m(.0)\u001b[0m\n\u001b[1;32m    252\u001b[0m         out \u001b[38;5;241m=\u001b[39m [func(model, x, config) \u001b[38;5;28;01mfor\u001b[39;00m x \u001b[38;5;129;01min\u001b[39;00m tqdm(X, total\u001b[38;5;241m=\u001b[39m\u001b[38;5;28mlen\u001b[39m(X))]\n\u001b[1;32m    253\u001b[0m     \u001b[38;5;28;01melse\u001b[39;00m:\n\u001b[0;32m--> 254\u001b[0m         out \u001b[38;5;241m=\u001b[39m [\u001b[43mfunc\u001b[49m\u001b[43m(\u001b[49m\u001b[43mmodel\u001b[49m\u001b[43m,\u001b[49m\u001b[43m \u001b[49m\u001b[43mx\u001b[49m\u001b[43m,\u001b[49m\u001b[43m \u001b[49m\u001b[43mconfig\u001b[49m\u001b[43m)\u001b[49m \u001b[38;5;28;01mfor\u001b[39;00m x \u001b[38;5;129;01min\u001b[39;00m X]\n\u001b[1;32m    256\u001b[0m \u001b[38;5;28;01mreturn\u001b[39;00m np\u001b[38;5;241m.\u001b[39matleast_2d(out)\n",
      "File \u001b[0;32m/usr/local/lib/python3.11/site-packages/mcts_inference/mcts.py:196\u001b[0m, in \u001b[0;36m_all_step_MCTS\u001b[0;34m(model, x, config)\u001b[0m\n\u001b[1;32m    194\u001b[0m ComputationalConstraint\u001b[38;5;241m.\u001b[39mreset()\n\u001b[1;32m    195\u001b[0m \u001b[38;5;28;01mwhile\u001b[39;00m (ComputationalConstraint):\n\u001b[0;32m--> 196\u001b[0m     node: MCTSNode \u001b[38;5;241m=\u001b[39m \u001b[43mselect\u001b[49m\u001b[43m(\u001b[49m\u001b[43mroot\u001b[49m\u001b[43m,\u001b[49m\u001b[43m \u001b[49m\u001b[43mpolicy\u001b[49m\u001b[38;5;241;43m=\u001b[39;49m\u001b[43mselect_policy\u001b[49m\u001b[43m)\u001b[49m\n\u001b[1;32m    197\u001b[0m     node \u001b[38;5;241m=\u001b[39m simulate(node, policy\u001b[38;5;241m=\u001b[39msimulate_policy)\n\u001b[1;32m    198\u001b[0m     reward: \u001b[38;5;28mfloat\u001b[39m \u001b[38;5;241m=\u001b[39m get_reward(node, model, x, cache)\n",
      "File \u001b[0;32m/usr/local/lib/python3.11/site-packages/mcts_inference/mcts.py:37\u001b[0m, in \u001b[0;36mselect\u001b[0;34m(node, policy)\u001b[0m\n\u001b[1;32m     35\u001b[0m \u001b[38;5;28;01mwhile\u001b[39;00m (node\u001b[38;5;241m.\u001b[39mis_expanded() \u001b[38;5;129;01mand\u001b[39;00m \u001b[38;5;129;01mnot\u001b[39;00m node\u001b[38;5;241m.\u001b[39mis_terminal()):\n\u001b[1;32m     36\u001b[0m     node\u001b[38;5;241m.\u001b[39mvisit_count \u001b[38;5;241m+\u001b[39m\u001b[38;5;241m=\u001b[39m \u001b[38;5;241m1\u001b[39m\n\u001b[0;32m---> 37\u001b[0m     idx: \u001b[38;5;28mint\u001b[39m \u001b[38;5;241m=\u001b[39m \u001b[43mpolicy\u001b[49m\u001b[43m(\u001b[49m\u001b[43mnode\u001b[49m\u001b[43m)\u001b[49m\n\u001b[1;32m     38\u001b[0m     node \u001b[38;5;241m=\u001b[39m node[idx]\n\u001b[1;32m     39\u001b[0m \u001b[38;5;28;01mreturn\u001b[39;00m node\n",
      "File \u001b[0;32m/usr/local/lib/python3.11/site-packages/mcts_inference/policy.py:225\u001b[0m, in \u001b[0;36mUCB.__call__\u001b[0;34m(self, node)\u001b[0m\n\u001b[1;32m    223\u001b[0m scores: np\u001b[38;5;241m.\u001b[39mndarray[Any, np\u001b[38;5;241m.\u001b[39mdtype[np\u001b[38;5;241m.\u001b[39mfloat64]] \u001b[38;5;241m=\u001b[39m node\u001b[38;5;241m.\u001b[39mget_children_scores()\n\u001b[1;32m    224\u001b[0m ucb: np\u001b[38;5;241m.\u001b[39mndarray[Any, np\u001b[38;5;241m.\u001b[39mdtype[np\u001b[38;5;241m.\u001b[39mfloat64]] \u001b[38;5;241m=\u001b[39m scores \u001b[38;5;241m/\u001b[39m counts \u001b[38;5;241m+\u001b[39m np\u001b[38;5;241m.\u001b[39msqrt(\u001b[38;5;28mself\u001b[39m\u001b[38;5;241m.\u001b[39malpha \u001b[38;5;241m*\u001b[39m np\u001b[38;5;241m.\u001b[39mlog(node\u001b[38;5;241m.\u001b[39mvisit_count) \u001b[38;5;241m/\u001b[39m counts)\n\u001b[0;32m--> 225\u001b[0m \u001b[38;5;28;01mreturn\u001b[39;00m \u001b[43mrandmax\u001b[49m\u001b[43m(\u001b[49m\u001b[43mucb\u001b[49m\u001b[43m)\u001b[49m\n",
      "File \u001b[0;32m/usr/local/lib/python3.11/site-packages/mcts_inference/utils.py:14\u001b[0m, in \u001b[0;36mrandmax\u001b[0;34m(A)\u001b[0m\n\u001b[1;32m     10\u001b[0m \u001b[38;5;28;01mfrom\u001b[39;00m \u001b[38;5;21;01mtyping\u001b[39;00m \u001b[38;5;28;01mimport\u001b[39;00m Any, Callable\n\u001b[1;32m     11\u001b[0m \u001b[38;5;28;01mimport\u001b[39;00m \u001b[38;5;21;01mnumpy\u001b[39;00m \u001b[38;5;28;01mas\u001b[39;00m \u001b[38;5;21;01mnp\u001b[39;00m\n\u001b[0;32m---> 14\u001b[0m \u001b[38;5;28;01mdef\u001b[39;00m \u001b[38;5;21mrandmax\u001b[39m(A: Any) \u001b[38;5;241m-\u001b[39m\u001b[38;5;241m>\u001b[39m \u001b[38;5;28mint\u001b[39m:\n\u001b[1;32m     15\u001b[0m \u001b[38;5;250m    \u001b[39m\u001b[38;5;124;03m\"\"\"\u001b[39;00m\n\u001b[1;32m     16\u001b[0m \u001b[38;5;124;03m    Function to return the index of the element with highest value in A, breaking ties randomly.\u001b[39;00m\n\u001b[1;32m     17\u001b[0m \n\u001b[0;32m   (...)\u001b[0m\n\u001b[1;32m     26\u001b[0m \u001b[38;5;124;03m        0\u001b[39;00m\n\u001b[1;32m     27\u001b[0m \u001b[38;5;124;03m    \"\"\"\u001b[39;00m\n\u001b[1;32m     28\u001b[0m     maxValue: Any \u001b[38;5;241m=\u001b[39m \u001b[38;5;28mmax\u001b[39m(A)\n",
      "\u001b[0;31mKeyboardInterrupt\u001b[0m: "
     ]
    }
   ],
   "source": [
    "constraint = Constraint(max_iter=True, n_iter=1000)\n",
    "config = MCTSConfig(n_classes, selection_policy=UCB(), constraint=constraint, verbose=False, step_once=False, parallel=False)\n",
    "\n",
    "M = 200\n",
    "while(True):\n",
    "    t0 = time.time()\n",
    "    MCTS(chain, X_test[:M], config)\n",
    "    print(f\"{time.time()-t0:.3f}\")"
   ]
  },
  {
   "cell_type": "code",
   "execution_count": 22,
   "id": "ff33518b",
   "metadata": {},
   "outputs": [
    {
     "data": {
      "text/plain": [
       "(2000, 20)"
      ]
     },
     "execution_count": 22,
     "metadata": {},
     "output_type": "execute_result"
    }
   ],
   "source": [
    "X_test.shape"
   ]
  },
  {
   "cell_type": "code",
   "execution_count": 53,
   "id": "50e9b6d4",
   "metadata": {},
   "outputs": [],
   "source": [
    "Ns = [100, 500, 1000, 1500, 2000]\n",
    "Ls = [2,4,8,16,32,64]\n",
    "avg = 10\n",
    "M = 100\n",
    "\n",
    "n_samples = 10000\n",
    "n_labels = 2\n",
    "random_state = 0\n",
    "test_size = 0.2\n",
    "\n",
    "from sklearn.multioutput import ClassifierChain\n",
    "from sklearn.linear_model import LogisticRegression\n",
    "solver = \"liblinear\""
   ]
  },
  {
   "cell_type": "code",
   "execution_count": 57,
   "id": "be3e6825",
   "metadata": {},
   "outputs": [
    {
     "name": "stdout",
     "output_type": "stream",
     "text": [
      "L> 2\n",
      "n> 100\n",
      "n> 500\n",
      "n> 1000\n",
      "n> 1500\n",
      "n> 2000\n",
      "L> 4\n",
      "n> 100\n",
      "n> 500\n"
     ]
    },
    {
     "name": "stderr",
     "output_type": "stream",
     "text": [
      "Process SpawnPoolWorker-1337:\n",
      "Process SpawnPoolWorker-1342:\n",
      "Process SpawnPoolWorker-1338:\n",
      "Process SpawnPoolWorker-1343:\n",
      "Process SpawnPoolWorker-1340:\n",
      "Process SpawnPoolWorker-1339:\n"
     ]
    },
    {
     "ename": "KeyboardInterrupt",
     "evalue": "",
     "output_type": "error",
     "traceback": [
      "\u001b[0;31m---------------------------------------------------------------------------\u001b[0m",
      "\u001b[0;31mKeyboardInterrupt\u001b[0m                         Traceback (most recent call last)",
      "Cell \u001b[0;32mIn[57], line 26\u001b[0m\n\u001b[1;32m     23\u001b[0m \u001b[38;5;28;01mfor\u001b[39;00m _ \u001b[38;5;129;01min\u001b[39;00m \u001b[38;5;28mrange\u001b[39m(avg):\n\u001b[1;32m     24\u001b[0m     t0 \u001b[38;5;241m=\u001b[39m time\u001b[38;5;241m.\u001b[39mtime()\n\u001b[0;32m---> 26\u001b[0m     \u001b[43mMCTS\u001b[49m\u001b[43m(\u001b[49m\u001b[43mchain\u001b[49m\u001b[43m,\u001b[49m\u001b[43m \u001b[49m\u001b[43mX_test\u001b[49m\u001b[43m[\u001b[49m\u001b[43m:\u001b[49m\u001b[43mM\u001b[49m\u001b[43m]\u001b[49m\u001b[43m,\u001b[49m\u001b[43m \u001b[49m\u001b[43mconfig\u001b[49m\u001b[43m)\u001b[49m\n\u001b[1;32m     28\u001b[0m     times[il][jn]\u001b[38;5;241m.\u001b[39mappend(time\u001b[38;5;241m.\u001b[39mtime()\u001b[38;5;241m-\u001b[39mt0)\n",
      "File \u001b[0;32m/usr/local/lib/python3.11/site-packages/mcts_inference/mcts.py:243\u001b[0m, in \u001b[0;36mMCTS\u001b[0;34m(model, X, config)\u001b[0m\n\u001b[1;32m    241\u001b[0m             out \u001b[38;5;241m=\u001b[39m \u001b[38;5;28mlist\u001b[39m(tqdm(pool\u001b[38;5;241m.\u001b[39mimap(MCTS_wrapper, [(model, x, config) \u001b[38;5;28;01mfor\u001b[39;00m x \u001b[38;5;129;01min\u001b[39;00m X]), total\u001b[38;5;241m=\u001b[39m\u001b[38;5;28mlen\u001b[39m(X)))\n\u001b[1;32m    242\u001b[0m         \u001b[38;5;28;01melse\u001b[39;00m:\n\u001b[0;32m--> 243\u001b[0m             out \u001b[38;5;241m=\u001b[39m \u001b[43mpool\u001b[49m\u001b[38;5;241;43m.\u001b[39;49m\u001b[43mmap\u001b[49m\u001b[43m(\u001b[49m\u001b[43mMCTS_wrapper\u001b[49m\u001b[43m,\u001b[49m\u001b[43m \u001b[49m\u001b[43m[\u001b[49m\u001b[43m(\u001b[49m\u001b[43mmodel\u001b[49m\u001b[43m,\u001b[49m\u001b[43m \u001b[49m\u001b[43mx\u001b[49m\u001b[43m,\u001b[49m\u001b[43m \u001b[49m\u001b[43mconfig\u001b[49m\u001b[43m)\u001b[49m\u001b[43m \u001b[49m\u001b[38;5;28;43;01mfor\u001b[39;49;00m\u001b[43m \u001b[49m\u001b[43mx\u001b[49m\u001b[43m \u001b[49m\u001b[38;5;129;43;01min\u001b[39;49;00m\u001b[43m \u001b[49m\u001b[43mX\u001b[49m\u001b[43m]\u001b[49m\u001b[43m)\u001b[49m\n\u001b[1;32m    245\u001b[0m \u001b[38;5;28;01melse\u001b[39;00m:\n\u001b[1;32m    246\u001b[0m     \u001b[38;5;28;01mif\u001b[39;00m config\u001b[38;5;241m.\u001b[39mstep_once:\n",
      "File \u001b[0;32m/usr/local/Cellar/python@3.11/3.11.7_1/Frameworks/Python.framework/Versions/3.11/lib/python3.11/multiprocessing/pool.py:367\u001b[0m, in \u001b[0;36mPool.map\u001b[0;34m(self, func, iterable, chunksize)\u001b[0m\n\u001b[1;32m    362\u001b[0m \u001b[38;5;28;01mdef\u001b[39;00m \u001b[38;5;21mmap\u001b[39m(\u001b[38;5;28mself\u001b[39m, func, iterable, chunksize\u001b[38;5;241m=\u001b[39m\u001b[38;5;28;01mNone\u001b[39;00m):\n\u001b[1;32m    363\u001b[0m \u001b[38;5;250m    \u001b[39m\u001b[38;5;124;03m'''\u001b[39;00m\n\u001b[1;32m    364\u001b[0m \u001b[38;5;124;03m    Apply `func` to each element in `iterable`, collecting the results\u001b[39;00m\n\u001b[1;32m    365\u001b[0m \u001b[38;5;124;03m    in a list that is returned.\u001b[39;00m\n\u001b[1;32m    366\u001b[0m \u001b[38;5;124;03m    '''\u001b[39;00m\n\u001b[0;32m--> 367\u001b[0m     \u001b[38;5;28;01mreturn\u001b[39;00m \u001b[38;5;28;43mself\u001b[39;49m\u001b[38;5;241;43m.\u001b[39;49m\u001b[43m_map_async\u001b[49m\u001b[43m(\u001b[49m\u001b[43mfunc\u001b[49m\u001b[43m,\u001b[49m\u001b[43m \u001b[49m\u001b[43miterable\u001b[49m\u001b[43m,\u001b[49m\u001b[43m \u001b[49m\u001b[43mmapstar\u001b[49m\u001b[43m,\u001b[49m\u001b[43m \u001b[49m\u001b[43mchunksize\u001b[49m\u001b[43m)\u001b[49m\u001b[38;5;241;43m.\u001b[39;49m\u001b[43mget\u001b[49m\u001b[43m(\u001b[49m\u001b[43m)\u001b[49m\n",
      "File \u001b[0;32m/usr/local/Cellar/python@3.11/3.11.7_1/Frameworks/Python.framework/Versions/3.11/lib/python3.11/multiprocessing/pool.py:768\u001b[0m, in \u001b[0;36mApplyResult.get\u001b[0;34m(self, timeout)\u001b[0m\n\u001b[1;32m    767\u001b[0m \u001b[38;5;28;01mdef\u001b[39;00m \u001b[38;5;21mget\u001b[39m(\u001b[38;5;28mself\u001b[39m, timeout\u001b[38;5;241m=\u001b[39m\u001b[38;5;28;01mNone\u001b[39;00m):\n\u001b[0;32m--> 768\u001b[0m     \u001b[38;5;28;43mself\u001b[39;49m\u001b[38;5;241;43m.\u001b[39;49m\u001b[43mwait\u001b[49m\u001b[43m(\u001b[49m\u001b[43mtimeout\u001b[49m\u001b[43m)\u001b[49m\n\u001b[1;32m    769\u001b[0m     \u001b[38;5;28;01mif\u001b[39;00m \u001b[38;5;129;01mnot\u001b[39;00m \u001b[38;5;28mself\u001b[39m\u001b[38;5;241m.\u001b[39mready():\n\u001b[1;32m    770\u001b[0m         \u001b[38;5;28;01mraise\u001b[39;00m \u001b[38;5;167;01mTimeoutError\u001b[39;00m\n",
      "File \u001b[0;32m/usr/local/Cellar/python@3.11/3.11.7_1/Frameworks/Python.framework/Versions/3.11/lib/python3.11/multiprocessing/pool.py:765\u001b[0m, in \u001b[0;36mApplyResult.wait\u001b[0;34m(self, timeout)\u001b[0m\n\u001b[1;32m    764\u001b[0m \u001b[38;5;28;01mdef\u001b[39;00m \u001b[38;5;21mwait\u001b[39m(\u001b[38;5;28mself\u001b[39m, timeout\u001b[38;5;241m=\u001b[39m\u001b[38;5;28;01mNone\u001b[39;00m):\n\u001b[0;32m--> 765\u001b[0m     \u001b[38;5;28;43mself\u001b[39;49m\u001b[38;5;241;43m.\u001b[39;49m\u001b[43m_event\u001b[49m\u001b[38;5;241;43m.\u001b[39;49m\u001b[43mwait\u001b[49m\u001b[43m(\u001b[49m\u001b[43mtimeout\u001b[49m\u001b[43m)\u001b[49m\n",
      "File \u001b[0;32m/usr/local/Cellar/python@3.11/3.11.7_1/Frameworks/Python.framework/Versions/3.11/lib/python3.11/threading.py:629\u001b[0m, in \u001b[0;36mEvent.wait\u001b[0;34m(self, timeout)\u001b[0m\n\u001b[1;32m    627\u001b[0m signaled \u001b[38;5;241m=\u001b[39m \u001b[38;5;28mself\u001b[39m\u001b[38;5;241m.\u001b[39m_flag\n\u001b[1;32m    628\u001b[0m \u001b[38;5;28;01mif\u001b[39;00m \u001b[38;5;129;01mnot\u001b[39;00m signaled:\n\u001b[0;32m--> 629\u001b[0m     signaled \u001b[38;5;241m=\u001b[39m \u001b[38;5;28;43mself\u001b[39;49m\u001b[38;5;241;43m.\u001b[39;49m\u001b[43m_cond\u001b[49m\u001b[38;5;241;43m.\u001b[39;49m\u001b[43mwait\u001b[49m\u001b[43m(\u001b[49m\u001b[43mtimeout\u001b[49m\u001b[43m)\u001b[49m\n\u001b[1;32m    630\u001b[0m \u001b[38;5;28;01mreturn\u001b[39;00m signaled\n",
      "File \u001b[0;32m/usr/local/Cellar/python@3.11/3.11.7_1/Frameworks/Python.framework/Versions/3.11/lib/python3.11/threading.py:327\u001b[0m, in \u001b[0;36mCondition.wait\u001b[0;34m(self, timeout)\u001b[0m\n\u001b[1;32m    325\u001b[0m \u001b[38;5;28;01mtry\u001b[39;00m:    \u001b[38;5;66;03m# restore state no matter what (e.g., KeyboardInterrupt)\u001b[39;00m\n\u001b[1;32m    326\u001b[0m     \u001b[38;5;28;01mif\u001b[39;00m timeout \u001b[38;5;129;01mis\u001b[39;00m \u001b[38;5;28;01mNone\u001b[39;00m:\n\u001b[0;32m--> 327\u001b[0m         \u001b[43mwaiter\u001b[49m\u001b[38;5;241;43m.\u001b[39;49m\u001b[43macquire\u001b[49m\u001b[43m(\u001b[49m\u001b[43m)\u001b[49m\n\u001b[1;32m    328\u001b[0m         gotit \u001b[38;5;241m=\u001b[39m \u001b[38;5;28;01mTrue\u001b[39;00m\n\u001b[1;32m    329\u001b[0m     \u001b[38;5;28;01melse\u001b[39;00m:\n",
      "\u001b[0;31mKeyboardInterrupt\u001b[0m: "
     ]
    }
   ],
   "source": [
    "times = [[[] for _ in Ns] for _ in Ls]\n",
    "\n",
    "for il, l in enumerate(Ls):\n",
    "    print(\"L>\", l)\n",
    "    X, Y = make_multilabel_classification(\n",
    "        n_samples = n_samples,\n",
    "        n_features = 4 * l,\n",
    "        n_classes = l,\n",
    "        n_labels = n_labels,\n",
    "        random_state = random_state)\n",
    "    \n",
    "    X_train, X_test, Y_train, Y_test = train_test_split(X, Y, test_size=test_size, random_state=random_state)\n",
    "\n",
    "    base = LogisticRegression(solver=solver)\n",
    "    chain = ClassifierChain(base)\n",
    "\n",
    "    chain = chain.fit(X_train,Y_train)\n",
    "    \n",
    "    for jn, n in enumerate(Ns):\n",
    "        print(\"n>\", n)\n",
    "        constraint = Constraint(max_iter=True, n_iter=n)\n",
    "        config = MCTSConfig(l, selection_policy=UCB(), constraint=constraint, verbose=False, step_once=False, parallel=True)\n",
    "        for _ in range(avg):\n",
    "            t0 = time.time()\n",
    "\n",
    "            MCTS(chain, X_test[:M], config)\n",
    "\n",
    "            times[il][jn].append(time.time()-t0)"
   ]
  },
  {
   "cell_type": "code",
   "execution_count": null,
   "id": "c95879ec",
   "metadata": {},
   "outputs": [],
   "source": []
  }
 ],
 "metadata": {
  "kernelspec": {
   "display_name": "Python 3 (ipykernel)",
   "language": "python",
   "name": "python3"
  },
  "language_info": {
   "codemirror_mode": {
    "name": "ipython",
    "version": 3
   },
   "file_extension": ".py",
   "mimetype": "text/x-python",
   "name": "python",
   "nbconvert_exporter": "python",
   "pygments_lexer": "ipython3",
   "version": "3.11.7"
  }
 },
 "nbformat": 4,
 "nbformat_minor": 5
}
