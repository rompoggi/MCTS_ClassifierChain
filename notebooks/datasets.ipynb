{
 "cells": [
  {
   "cell_type": "markdown",
   "metadata": {},
   "source": [
    "# Compare between datasets"
   ]
  },
  {
   "cell_type": "markdown",
   "metadata": {},
   "source": [
    "[Efficient Monte Carlo Methods for Multi-Dimensional Learning with Classifier Chains](https://arxiv.org/abs/1211.2190)\n",
    "\n",
    "- [Solar Flare](https://archive.ics.uci.edu/dataset/89/solar+flare)\n",
    "- [Bridges](https://www.openml.org/search?type=data&sort=runs&id=328&status=active)\n",
    "- [Yeast](https://archive.ics.uci.edu/dataset/110/yeast)\n",
    "- [Parkinson](https://www.kaggle.com/datasets/vikasukani/parkinsons-disease-data-set/data)\n",
    "- [Thyroid](https://www.kaggle.com/datasets/yasserhessein/thyroid-disease-data-set/code)\n",
    "- [Music](https://www.kaggle.com/datasets/andradaolteanu/gtzan-dataset-music-genre-classification)\n",
    "- [Genbase](https://rdrr.io/cran/mldr.datasets/man/genbase.html#heading-0)\n",
    "- [Computer Audition Lab 500](https://paperswithcode.com/dataset/cal500)"
   ]
  },
  {
   "cell_type": "markdown",
   "metadata": {},
   "source": []
  }
 ],
 "metadata": {
  "language_info": {
   "name": "python"
  }
 },
 "nbformat": 4,
 "nbformat_minor": 2
}
