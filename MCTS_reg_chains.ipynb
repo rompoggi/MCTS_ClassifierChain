{
 "cells": [
  {
   "cell_type": "markdown",
   "id": "f7607183",
   "metadata": {},
   "source": [
    "# Basic implementation of MCTS to Classifier Chains"
   ]
  },
  {
   "cell_type": "markdown",
   "id": "4ed72398",
   "metadata": {},
   "source": [
    "---\n",
    "Importing modules to generate data"
   ]
  },
  {
   "cell_type": "code",
   "execution_count": 4,
   "id": "bb7f4f5a",
   "metadata": {},
   "outputs": [],
   "source": [
    "import numpy as np\n",
    "np.set_printoptions(precision=3)\n",
    "from sklearn.datasets import make_multilabel_classification\n",
    "from sklearn.model_selection import train_test_split"
   ]
  },
  {
   "cell_type": "markdown",
   "id": "96b1a8ed",
   "metadata": {},
   "source": [
    "### Generate some data"
   ]
  },
  {
   "cell_type": "code",
   "execution_count": 13,
   "id": "c1d3efa3",
   "metadata": {
    "scrolled": true
   },
   "outputs": [
    {
     "name": "stdout",
     "output_type": "stream",
     "text": [
      "X_train.shape = (800, 6)\n",
      "[[14. 16.  4.  8.  7. 10.]\n",
      " [ 9.  9.  7.  6.  9.  5.]\n",
      " [ 7.  6. 19.  3.  5.  7.]\n",
      " ...\n",
      " [12.  9.  7. 14.  6.  8.]\n",
      " [ 6.  4.  3. 12.  7.  6.]\n",
      " [13.  9.  1. 15.  9.  4.]]\n",
      "Y_train.shape = (800, 5)\n",
      "[[1 1 1 1 0]\n",
      " [0 0 0 1 0]\n",
      " [0 0 1 1 1]\n",
      " ...\n",
      " [1 0 0 1 0]\n",
      " [0 1 1 0 0]\n",
      " [1 0 0 0 0]]\n"
     ]
    }
   ],
   "source": [
    "n_samples = 1000\n",
    "n_features=6\n",
    "n_labels=3\n",
    "random_state=0\n",
    "\n",
    "X, Y = make_multilabel_classification(\n",
    "    n_samples=n_samples, \n",
    "    n_features=n_features, \n",
    "    n_labels=n_labels, \n",
    "    random_state=random_state)\n",
    "\n",
    "test_size = 0.2\n",
    "X_train, X_test, Y_train, Y_test = train_test_split(X, Y, test_size=test_size, random_state=random_state)\n",
    "\n",
    "print(f\"{X_train.shape = }\\n{X_train}\")\n",
    "print(f\"{Y_train.shape = }\\n{Y_train}\")"
   ]
  },
  {
   "cell_type": "code",
   "execution_count": 7,
   "id": "e7cb1e09",
   "metadata": {},
   "outputs": [
    {
     "data": {
      "text/plain": [
       "array([[14., 16.,  4.,  8.,  7., 10.],\n",
       "       [ 9.,  9.,  7.,  6.,  9.,  5.],\n",
       "       [ 7.,  6., 19.,  3.,  5.,  7.],\n",
       "       ...,\n",
       "       [12.,  9.,  7., 14.,  6.,  8.],\n",
       "       [ 6.,  4.,  3., 12.,  7.,  6.],\n",
       "       [13.,  9.,  1., 15.,  9.,  4.]])"
      ]
     },
     "execution_count": 7,
     "metadata": {},
     "output_type": "execute_result"
    }
   ],
   "source": [
    "X_train"
   ]
  },
  {
   "cell_type": "code",
   "execution_count": null,
   "id": "fe2bd9f7",
   "metadata": {},
   "outputs": [],
   "source": [
    "from sklearn.multioutput import ClassifierChain\n",
    "from sklearn.linear_model import LogisticRegression\n",
    "\n",
    "solver = \"liblinear\"\n",
    "base = LogisticRegression(solver=solver)\n",
    "chain = ClassifierChain(base)\n",
    "\n",
    "# chain = chain.fit(X_train,Y_train)"
   ]
  },
  {
   "cell_type": "markdown",
   "id": "aec4a2c3",
   "metadata": {},
   "source": [
    "# Monte Carlo Tree Search Pseudocode:\n",
    "\n",
    "> function MonteCarloTreeSearch(root) \n",
    ">>     while time_budget_not_exceeded:\n",
    ">>         node_to_expand = selectNodeToExpand(root)\n",
    ">>         simulation_result = simulateRandomPlayout(node_to_expand)\n",
    ">>         backpropagate(simulation_result, node_to_expand)\n",
    ">>     return bestChild(root)"
   ]
  },
  {
   "cell_type": "markdown",
   "id": "836d8d1e",
   "metadata": {},
   "source": [
    "## Below is a class that implements the constraints imposed."
   ]
  },
  {
   "cell_type": "code",
   "execution_count": 6,
   "id": "a655053d",
   "metadata": {},
   "outputs": [],
   "source": [
    "import time\n",
    "class Constraint:\n",
    "    def __init__(self,time=False,max_iter=False,d_time:float=1.,n_iter:int=100,verbose=False)->None:\n",
    "        assert (time or max_iter), f\"At least {time=} or {max_iter=} should be True\"\n",
    "        assert(not max_iter or (isinstance(n_iter,int) and n_iter > 0)), f\"{n_iter=} should be positive if {max_iter=}\"\n",
    "        assert( (not time) or (d_time > 0)), f\"{d_time=} should be positive if {time=}\"     \n",
    "            \n",
    "        self.time:bool       = time\n",
    "        self.d_time:float    = d_time\n",
    "        self.end_time:float = None \n",
    "            \n",
    "        self.max_iter:bool   = max_iter\n",
    "        self.n_iter:int      = n_iter\n",
    "        self.curr_iter:int   = None\n",
    "            \n",
    "        self.reset()\n",
    "        \n",
    "        self.v:bool          = verbose\n",
    "        \n",
    "    def reset(self)->None:\n",
    "        self.end_time = time.time() + self.d_time\n",
    "        self.curr_iter = -1\n",
    "        \n",
    "    def _bool_time(self)->bool:\n",
    "        return (not self.time or self.end_time >= time.time())\n",
    "    \n",
    "    def _bool_iter(self)->bool:\n",
    "        self.curr_iter += 1\n",
    "        return (not self.max_iter or self.curr_iter < self.n_iter)\n",
    "    \n",
    "    def __bool__(self)->bool:\n",
    "        if self.v: # verbose\n",
    "            bt = self._bool_time()\n",
    "            bi = self._bool_iter()\n",
    "            if not bt:\n",
    "                print(f\"Time Constraint Attained. Current iteration: {self.curr_iter:_}/{self.n_iter:_}\")\n",
    "                return False\n",
    "            if not bi:\n",
    "                print(f\"Iteration Constraint Attained. Time left: {self.end_time - time.time():.3f}/{self.d_time}s\")\n",
    "                return False\n",
    "            return True\n",
    "        return self._bool_time() and self._bool_iter()"
   ]
  },
  {
   "cell_type": "markdown",
   "id": "7930e94a",
   "metadata": {},
   "source": [
    "## Below is a class that represents the nodes in the MCTS algorithm"
   ]
  },
  {
   "cell_type": "code",
   "execution_count": 7,
   "id": "c1563b1b",
   "metadata": {},
   "outputs": [],
   "source": [
    "class MCTSNode:\n",
    "    def __init__(self,rank:int=2,n_children:int=2):\n",
    "        self.val = 0\n",
    "        self.visit_count = 0\n",
    "        \n",
    "        self.parent = None\n",
    "        self.children = None\n",
    "        self.n_children = n_children\n",
    "        self.rank:int = rank\n",
    "        \n",
    "    def __get__(self,key:int):\n",
    "        assert (key >= 0 and key < n_children), f\"{key} is not a valid key.\"\n",
    "        return self.children[key]\n",
    "\n",
    "    def is_terminal(self):\n",
    "        return self.rank == 0\n",
    "    \n",
    "    def is_expanded(self):\n",
    "        return self.children==None"
   ]
  },
  {
   "cell_type": "markdown",
   "id": "1146b38e",
   "metadata": {},
   "source": [
    "# In MCTS, many alogirhtms are needed. We implement some below"
   ]
  },
  {
   "cell_type": "code",
   "execution_count": 8,
   "id": "b169ce9a",
   "metadata": {},
   "outputs": [],
   "source": [
    "def randmax(A):\n",
    "    maxValue=max(A,key=lambda x:x.proba)\n",
    "    index = [i for i in range(len(A)) if A[i].proba==maxValue]\n",
    "    return np.random.choice(index)\n",
    "\n",
    "def eps_greedy(node:MCTSNode,eps:float=0.1)->int:\n",
    "    if np.random.rand < eps: # explore\n",
    "        return np.random.choice(node.children)\n",
    "    return randmax(node.children)\n",
    "\n",
    "def select(node,selector)->MCTSNode:\n",
    "    while(not node.is_expanded() and not node.is_terminal()):\n",
    "        ind = selector(node)\n",
    "        node = node[ind]\n",
    "    return node\n",
    "\n",
    "def back_prog(node,reward):\n",
    "    assert (node.is_terminal()), f\"The node should be terminal to back-propagate. Node rank={node.rank}\""
   ]
  },
  {
   "cell_type": "code",
   "execution_count": 11,
   "id": "a4b15bc1",
   "metadata": {},
   "outputs": [
    {
     "name": "stdout",
     "output_type": "stream",
     "text": [
      "Time Constraint Attained. Current iteration: 2_233_809/10_000_000\n"
     ]
    }
   ],
   "source": [
    "def MCTS(root=None,n_label:int = 4):\n",
    "    if root is None:\n",
    "        root = MCTSNode(rank=n_label)\n",
    "    \n",
    "    cons = Constraint(time=True,d_time=1,max_iter=True,n_iter=10000000,verbose=True)\n",
    "    while(cons):\n",
    "#         print(\"hi\")\n",
    "        continue\n",
    "#         node = select(root)\n",
    "#         reward = simulate(node)\n",
    "#         back_prog(node,reward)\n",
    "        \n",
    "#     return bestChild(root)\n",
    "\n",
    "MCTS()"
   ]
  },
  {
   "cell_type": "code",
   "execution_count": null,
   "id": "f0e5f425",
   "metadata": {},
   "outputs": [],
   "source": []
  }
 ],
 "metadata": {
  "kernelspec": {
   "display_name": "Python 3 (ipykernel)",
   "language": "python",
   "name": "python3"
  },
  "language_info": {
   "codemirror_mode": {
    "name": "ipython",
    "version": 3
   },
   "file_extension": ".py",
   "mimetype": "text/x-python",
   "name": "python",
   "nbconvert_exporter": "python",
   "pygments_lexer": "ipython3",
   "version": "3.11.7"
  }
 },
 "nbformat": 4,
 "nbformat_minor": 5
}
